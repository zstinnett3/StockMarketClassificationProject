{
 "cells": [
  {
   "cell_type": "code",
   "execution_count": 1,
   "metadata": {},
   "outputs": [],
   "source": [
    "# method name: Portfolio Creation\n",
    "# purpose: This script uses the data from the predictions to make a portfolio. \n",
    "# created: 6/14/2020 11:01PM\n",
    "# Author: Zack Stinnett"
   ]
  },
  {
   "cell_type": "code",
   "execution_count": 2,
   "metadata": {},
   "outputs": [],
   "source": [
    "import pandas as pd\n",
    "import random"
   ]
  },
  {
   "cell_type": "code",
   "execution_count": 3,
   "metadata": {},
   "outputs": [],
   "source": [
    "df = pd.read_csv('StockDataWithPredictions.csv')"
   ]
  },
  {
   "cell_type": "code",
   "execution_count": 4,
   "metadata": {},
   "outputs": [],
   "source": [
    "symbols_preds_opens = df[['Symbol', 'Prediction', 'Open', 'Signal']]"
   ]
  },
  {
   "cell_type": "code",
   "execution_count": 5,
   "metadata": {},
   "outputs": [],
   "source": [
    "# Getting the first time a stock appeared\n",
    "first_occurances = symbols_preds_opens.drop_duplicates(['Symbol'], keep='first')"
   ]
  },
  {
   "cell_type": "code",
   "execution_count": 6,
   "metadata": {},
   "outputs": [],
   "source": [
    "first_occurances_with_buys = first_occurances[(first_occurances['Prediction'] == 1.0)]"
   ]
  },
  {
   "cell_type": "code",
   "execution_count": 7,
   "metadata": {},
   "outputs": [
    {
     "name": "stdout",
     "output_type": "stream",
     "text": [
      "The number of stocks that had a buy on first trigger: 35.\n"
     ]
    }
   ],
   "source": [
    "print('The number of stocks that had a buy on first trigger: {}.'.format(len(first_occurances_with_buys)))"
   ]
  },
  {
   "cell_type": "code",
   "execution_count": 8,
   "metadata": {},
   "outputs": [],
   "source": [
    "long_stocks = random.choices(list(first_occurances_with_buys['Symbol']), k=10)"
   ]
  },
  {
   "cell_type": "code",
   "execution_count": 9,
   "metadata": {},
   "outputs": [
    {
     "data": {
      "text/html": [
       "<div>\n",
       "<style scoped>\n",
       "    .dataframe tbody tr th:only-of-type {\n",
       "        vertical-align: middle;\n",
       "    }\n",
       "\n",
       "    .dataframe tbody tr th {\n",
       "        vertical-align: top;\n",
       "    }\n",
       "\n",
       "    .dataframe thead th {\n",
       "        text-align: right;\n",
       "    }\n",
       "</style>\n",
       "<table border=\"1\" class=\"dataframe\">\n",
       "  <thead>\n",
       "    <tr style=\"text-align: right;\">\n",
       "      <th></th>\n",
       "      <th>Symbol</th>\n",
       "      <th>Prediction</th>\n",
       "      <th>Open</th>\n",
       "      <th>Signal</th>\n",
       "    </tr>\n",
       "  </thead>\n",
       "  <tbody>\n",
       "    <tr>\n",
       "      <th>3</th>\n",
       "      <td>GHL</td>\n",
       "      <td>1.0</td>\n",
       "      <td>10.14</td>\n",
       "      <td>1.0</td>\n",
       "    </tr>\n",
       "    <tr>\n",
       "      <th>115</th>\n",
       "      <td>MSFT</td>\n",
       "      <td>1.0</td>\n",
       "      <td>184.82</td>\n",
       "      <td>1.0</td>\n",
       "    </tr>\n",
       "    <tr>\n",
       "      <th>148</th>\n",
       "      <td>T</td>\n",
       "      <td>1.0</td>\n",
       "      <td>31.30</td>\n",
       "      <td>1.0</td>\n",
       "    </tr>\n",
       "    <tr>\n",
       "      <th>152</th>\n",
       "      <td>EFX</td>\n",
       "      <td>1.0</td>\n",
       "      <td>168.72</td>\n",
       "      <td>1.0</td>\n",
       "    </tr>\n",
       "    <tr>\n",
       "      <th>172</th>\n",
       "      <td>FB</td>\n",
       "      <td>1.0</td>\n",
       "      <td>226.71</td>\n",
       "      <td>1.0</td>\n",
       "    </tr>\n",
       "    <tr>\n",
       "      <th>200</th>\n",
       "      <td>TSN</td>\n",
       "      <td>1.0</td>\n",
       "      <td>63.01</td>\n",
       "      <td>1.0</td>\n",
       "    </tr>\n",
       "    <tr>\n",
       "      <th>210</th>\n",
       "      <td>ROK</td>\n",
       "      <td>1.0</td>\n",
       "      <td>218.00</td>\n",
       "      <td>1.0</td>\n",
       "    </tr>\n",
       "    <tr>\n",
       "      <th>212</th>\n",
       "      <td>TJX</td>\n",
       "      <td>1.0</td>\n",
       "      <td>54.66</td>\n",
       "      <td>1.0</td>\n",
       "    </tr>\n",
       "    <tr>\n",
       "      <th>218</th>\n",
       "      <td>VLO</td>\n",
       "      <td>1.0</td>\n",
       "      <td>69.25</td>\n",
       "      <td>1.0</td>\n",
       "    </tr>\n",
       "    <tr>\n",
       "      <th>286</th>\n",
       "      <td>ENB</td>\n",
       "      <td>1.0</td>\n",
       "      <td>31.33</td>\n",
       "      <td>1.0</td>\n",
       "    </tr>\n",
       "  </tbody>\n",
       "</table>\n",
       "</div>"
      ],
      "text/plain": [
       "    Symbol  Prediction    Open  Signal\n",
       "3      GHL         1.0   10.14     1.0\n",
       "115   MSFT         1.0  184.82     1.0\n",
       "148      T         1.0   31.30     1.0\n",
       "152    EFX         1.0  168.72     1.0\n",
       "172     FB         1.0  226.71     1.0\n",
       "200    TSN         1.0   63.01     1.0\n",
       "210    ROK         1.0  218.00     1.0\n",
       "212    TJX         1.0   54.66     1.0\n",
       "218    VLO         1.0   69.25     1.0\n",
       "286    ENB         1.0   31.33     1.0"
      ]
     },
     "execution_count": 9,
     "metadata": {},
     "output_type": "execute_result"
    }
   ],
   "source": [
    "first_occurances[first_occurances['Symbol'].isin(long_stocks)]"
   ]
  },
  {
   "cell_type": "code",
   "execution_count": null,
   "metadata": {},
   "outputs": [],
   "source": [
    "# Considering the time period the data is taking place, March to June 2020. I chose a long portfolio, \n",
    "# since that was a great buying opportunity. "
   ]
  },
  {
   "cell_type": "code",
   "execution_count": null,
   "metadata": {},
   "outputs": [],
   "source": [
    "# The following is a great article on portfolio creation with Python: https://medium.com/@randerson112358/python-for-finance-portfolio-optimization-66882498847\n",
    "# The process would likely need more than a couple months of data to be effective in this situation though. "
   ]
  }
 ],
 "metadata": {
  "kernelspec": {
   "display_name": "Python 3",
   "language": "python",
   "name": "python3"
  },
  "language_info": {
   "codemirror_mode": {
    "name": "ipython",
    "version": 3
   },
   "file_extension": ".py",
   "mimetype": "text/x-python",
   "name": "python",
   "nbconvert_exporter": "python",
   "pygments_lexer": "ipython3",
   "version": "3.6.10"
  }
 },
 "nbformat": 4,
 "nbformat_minor": 4
}
