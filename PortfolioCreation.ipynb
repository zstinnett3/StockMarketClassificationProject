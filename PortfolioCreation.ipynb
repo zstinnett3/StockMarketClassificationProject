{
 "cells": [
  {
   "cell_type": "code",
   "execution_count": 1,
   "metadata": {},
   "outputs": [],
   "source": [
    "# method name: Portfolio Creation\n",
    "# purpose: This script uses the data from the predictions to make a portfolio. \n",
    "# created: 6/14/2020 11:01PM\n",
    "# Author: Zack Stinnett\n",
    "# Revisions: Added logging       6/14/2020 7:30PM"
   ]
  },
  {
   "cell_type": "code",
   "execution_count": 2,
   "metadata": {},
   "outputs": [],
   "source": [
    "import pandas as pd\n",
    "import random\n",
    "import logging"
   ]
  },
  {
   "cell_type": "code",
   "execution_count": 3,
   "metadata": {},
   "outputs": [],
   "source": [
    "logging.basicConfig(filename='portfoliocreation.log', level=logging.INFO,\n",
    "                    format='%(levelname)s:%(message)s')"
   ]
  },
  {
   "cell_type": "code",
   "execution_count": 4,
   "metadata": {},
   "outputs": [],
   "source": [
    "df = pd.read_csv('StockDataWithPredictions.csv')"
   ]
  },
  {
   "cell_type": "code",
   "execution_count": 5,
   "metadata": {},
   "outputs": [],
   "source": [
    "symbols_preds_opens = df[['Symbol', 'Prediction', 'Open', 'Signal']]"
   ]
  },
  {
   "cell_type": "code",
   "execution_count": 6,
   "metadata": {},
   "outputs": [],
   "source": [
    "# Getting the first time a stock appeared\n",
    "first_occurances = symbols_preds_opens.drop_duplicates(['Symbol'], keep='first')"
   ]
  },
  {
   "cell_type": "code",
   "execution_count": 7,
   "metadata": {},
   "outputs": [],
   "source": [
    "first_occurances_with_buys = first_occurances[(first_occurances['Prediction'] == 1.0)]"
   ]
  },
  {
   "cell_type": "code",
   "execution_count": 8,
   "metadata": {},
   "outputs": [
    {
     "name": "stdout",
     "output_type": "stream",
     "text": [
      "The number of stocks that had a buy on first trigger: 50.\n"
     ]
    }
   ],
   "source": [
    "print('The number of stocks that had a buy on first trigger: {}.'.format(len(first_occurances_with_buys)))"
   ]
  },
  {
   "cell_type": "code",
   "execution_count": 9,
   "metadata": {},
   "outputs": [],
   "source": [
    "long_stocks = random.choices(list(first_occurances_with_buys['Symbol']), k=10)"
   ]
  },
  {
   "cell_type": "code",
   "execution_count": 10,
   "metadata": {},
   "outputs": [
    {
     "data": {
      "text/html": [
       "<div>\n",
       "<style scoped>\n",
       "    .dataframe tbody tr th:only-of-type {\n",
       "        vertical-align: middle;\n",
       "    }\n",
       "\n",
       "    .dataframe tbody tr th {\n",
       "        vertical-align: top;\n",
       "    }\n",
       "\n",
       "    .dataframe thead th {\n",
       "        text-align: right;\n",
       "    }\n",
       "</style>\n",
       "<table border=\"1\" class=\"dataframe\">\n",
       "  <thead>\n",
       "    <tr style=\"text-align: right;\">\n",
       "      <th></th>\n",
       "      <th>Symbol</th>\n",
       "      <th>Prediction</th>\n",
       "      <th>Open</th>\n",
       "      <th>Signal</th>\n",
       "    </tr>\n",
       "  </thead>\n",
       "  <tbody>\n",
       "    <tr>\n",
       "      <th>3</th>\n",
       "      <td>GHL</td>\n",
       "      <td>1.0</td>\n",
       "      <td>10.14</td>\n",
       "      <td>1.0</td>\n",
       "    </tr>\n",
       "    <tr>\n",
       "      <th>27</th>\n",
       "      <td>NSA</td>\n",
       "      <td>1.0</td>\n",
       "      <td>31.66</td>\n",
       "      <td>1.0</td>\n",
       "    </tr>\n",
       "    <tr>\n",
       "      <th>186</th>\n",
       "      <td>WBA</td>\n",
       "      <td>1.0</td>\n",
       "      <td>43.97</td>\n",
       "      <td>1.0</td>\n",
       "    </tr>\n",
       "    <tr>\n",
       "      <th>201</th>\n",
       "      <td>SNAP</td>\n",
       "      <td>1.0</td>\n",
       "      <td>19.83</td>\n",
       "      <td>1.0</td>\n",
       "    </tr>\n",
       "    <tr>\n",
       "      <th>236</th>\n",
       "      <td>ROK</td>\n",
       "      <td>1.0</td>\n",
       "      <td>218.00</td>\n",
       "      <td>1.0</td>\n",
       "    </tr>\n",
       "    <tr>\n",
       "      <th>254</th>\n",
       "      <td>TSN</td>\n",
       "      <td>1.0</td>\n",
       "      <td>63.01</td>\n",
       "      <td>1.0</td>\n",
       "    </tr>\n",
       "    <tr>\n",
       "      <th>265</th>\n",
       "      <td>T</td>\n",
       "      <td>1.0</td>\n",
       "      <td>31.30</td>\n",
       "      <td>1.0</td>\n",
       "    </tr>\n",
       "    <tr>\n",
       "      <th>271</th>\n",
       "      <td>BA</td>\n",
       "      <td>1.0</td>\n",
       "      <td>157.10</td>\n",
       "      <td>1.0</td>\n",
       "    </tr>\n",
       "  </tbody>\n",
       "</table>\n",
       "</div>"
      ],
      "text/plain": [
       "    Symbol  Prediction    Open  Signal\n",
       "3      GHL         1.0   10.14     1.0\n",
       "27     NSA         1.0   31.66     1.0\n",
       "186    WBA         1.0   43.97     1.0\n",
       "201   SNAP         1.0   19.83     1.0\n",
       "236    ROK         1.0  218.00     1.0\n",
       "254    TSN         1.0   63.01     1.0\n",
       "265      T         1.0   31.30     1.0\n",
       "271     BA         1.0  157.10     1.0"
      ]
     },
     "execution_count": 10,
     "metadata": {},
     "output_type": "execute_result"
    }
   ],
   "source": [
    "first_occurances[first_occurances['Symbol'].isin(long_stocks)]"
   ]
  },
  {
   "cell_type": "code",
   "execution_count": 11,
   "metadata": {},
   "outputs": [],
   "source": [
    "# Considering the time period the data is taking place, March to June 2020. I chose a long portfolio, \n",
    "# since that was a great buying opportunity. "
   ]
  },
  {
   "cell_type": "code",
   "execution_count": 12,
   "metadata": {},
   "outputs": [],
   "source": [
    "# The following is a great article on portfolio creation with Python: https://medium.com/@randerson112358/python-for-finance-portfolio-optimization-66882498847\n",
    "# The process would likely need more than a couple months of data to be effective in this situation though. "
   ]
  },
  {
   "cell_type": "code",
   "execution_count": 13,
   "metadata": {},
   "outputs": [],
   "source": [
    "logging.info('Script has finished')"
   ]
  }
 ],
 "metadata": {
  "kernelspec": {
   "display_name": "Python 3",
   "language": "python",
   "name": "python3"
  },
  "language_info": {
   "codemirror_mode": {
    "name": "ipython",
    "version": 3
   },
   "file_extension": ".py",
   "mimetype": "text/x-python",
   "name": "python",
   "nbconvert_exporter": "python",
   "pygments_lexer": "ipython3",
   "version": "3.6.10"
  }
 },
 "nbformat": 4,
 "nbformat_minor": 4
}
