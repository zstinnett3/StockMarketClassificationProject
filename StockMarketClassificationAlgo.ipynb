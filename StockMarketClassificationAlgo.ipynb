{
 "cells": [
  {
   "cell_type": "code",
   "execution_count": null,
   "metadata": {},
   "outputs": [],
   "source": [
    "# method name: Stock Market Classification Algorithm\n",
    "# purpose: This script uses data from the previous data preprocessing algorithm to classify possible trades\n",
    "# created: 6/14/2020 5:01PM\n",
    "# Author: Zack Stinnett"
   ]
  },
  {
   "cell_type": "code",
   "execution_count": 1,
   "metadata": {},
   "outputs": [],
   "source": [
    "import numpy as np\n",
    "import pandas as pd\n",
    "from xgboost import XGBClassifier\n",
    "from sklearn.ensemble import RandomForestClassifier\n",
    "from sklearn.neighbors import KNeighborsClassifier\n",
    "from sklearn.linear_model import LogisticRegression\n",
    "from sklearn.ensemble import StackingClassifier\n",
    "from sklearn.naive_bayes import GaussianNB\n",
    "from sklearn.model_selection import RepeatedStratifiedKFold\n",
    "from sklearn.model_selection import cross_val_score, cross_val_predict\n",
    "from matplotlib import pyplot\n",
    "from sklearn.tree import DecisionTreeClassifier\n",
    "from sklearn.metrics import roc_auc_score, accuracy_score\n",
    "from sklearn.metrics import classification_report, confusion_matrix\n",
    "from sklearn.preprocessing import LabelEncoder"
   ]
  },
  {
   "cell_type": "code",
   "execution_count": 2,
   "metadata": {},
   "outputs": [],
   "source": [
    "stock_data = pd.read_csv('DataPreprocessingResults.csv')"
   ]
  },
  {
   "cell_type": "code",
   "execution_count": 3,
   "metadata": {},
   "outputs": [],
   "source": [
    "#Encoding stock symbols with numerical values\n",
    "label_encoder = LabelEncoder()"
   ]
  },
  {
   "cell_type": "code",
   "execution_count": 4,
   "metadata": {},
   "outputs": [],
   "source": [
    "stock_data['Symbol'] = label_encoder.fit_transform(stock_data['Symbol'])"
   ]
  },
  {
   "cell_type": "code",
   "execution_count": 5,
   "metadata": {},
   "outputs": [],
   "source": [
    "# Need to scale values in the data to allow the classification algorithms to work better. \n",
    "from sklearn.preprocessing import StandardScaler\n",
    "def rescale(data):\n",
    "    data = data.dropna().astype('float')\n",
    "    scaler = StandardScaler()\n",
    "    return scaler.fit_transform(data)"
   ]
  },
  {
   "cell_type": "code",
   "execution_count": 6,
   "metadata": {},
   "outputs": [],
   "source": [
    "# Fixing infinite values before using scaler\n",
    "# https://stackoverflow.com/questions/31323499/sklearn-error-valueerror-input-contains-nan-infinity-or-a-value-too-large-for\n",
    "\n",
    "def clean_dataset(df):\n",
    "    assert isinstance(df, pd.DataFrame), \"df needs to be a pd.DataFrame\"\n",
    "    df.dropna(inplace=True)\n",
    "    indices_to_keep = ~df.isin([np.nan, np.inf, -np.inf]).any(1)\n",
    "    return df[indices_to_keep].astype(np.float64)"
   ]
  },
  {
   "cell_type": "code",
   "execution_count": 7,
   "metadata": {},
   "outputs": [
    {
     "name": "stderr",
     "output_type": "stream",
     "text": [
      "C:\\Users\\zackarys\\AppData\\Local\\Continuum\\anaconda3\\envs\\devenv\\lib\\site-packages\\pandas\\core\\frame.py:3997: SettingWithCopyWarning: \n",
      "A value is trying to be set on a copy of a slice from a DataFrame\n",
      "\n",
      "See the caveats in the documentation: https://pandas.pydata.org/pandas-docs/stable/user_guide/indexing.html#returning-a-view-versus-a-copy\n",
      "  errors=errors,\n",
      "C:\\Users\\zackarys\\AppData\\Local\\Continuum\\anaconda3\\envs\\devenv\\lib\\site-packages\\ipykernel_launcher.py:6: SettingWithCopyWarning: \n",
      "A value is trying to be set on a copy of a slice from a DataFrame\n",
      "\n",
      "See the caveats in the documentation: https://pandas.pydata.org/pandas-docs/stable/user_guide/indexing.html#returning-a-view-versus-a-copy\n",
      "  \n"
     ]
    }
   ],
   "source": [
    "# Splitting manually on a date vs randomly to avoid leakage\n",
    "train_data = stock_data[stock_data['Date']<'2020-06-03']\n",
    "test_data = stock_data[stock_data['Date']>='2020-06-03']\n",
    "\n",
    "train_data.drop(['Date'], axis=1, inplace=True)\n",
    "test_data.drop(['Date'], axis=1, inplace=True)\n",
    "\n",
    "train_data = clean_dataset(train_data)\n",
    "test_data = clean_dataset(test_data)\n",
    "\n",
    "train_X, train_y = train_data.drop(['Signals'],axis=1), train_data['Signals']\n",
    "test_X, test_y   = test_data.drop(['Signals'],axis=1),  test_data['Signals']"
   ]
  },
  {
   "cell_type": "code",
   "execution_count": 8,
   "metadata": {},
   "outputs": [],
   "source": [
    "scaled_train_X = rescale(train_X)\n",
    "scaled_test_X = rescale(test_X)"
   ]
  },
  {
   "cell_type": "code",
   "execution_count": 9,
   "metadata": {},
   "outputs": [
    {
     "name": "stdout",
     "output_type": "stream",
     "text": [
      "0.22.1\n"
     ]
    }
   ],
   "source": [
    "# Version needs to be at least 0.22 for the ensemble stacking to work.\n",
    "import sklearn\n",
    "print(sklearn.__version__)"
   ]
  },
  {
   "cell_type": "code",
   "execution_count": 10,
   "metadata": {},
   "outputs": [],
   "source": [
    "# Code for the following comes from the stacking section from: https://machinelearningmastery.com/stacking-ensemble-machine-learning-with-python/\n",
    "# Was introduced to the idea in Advances in Financial Machine Learning by Marcos Lopez de Prado "
   ]
  },
  {
   "cell_type": "code",
   "execution_count": 11,
   "metadata": {},
   "outputs": [],
   "source": [
    "def get_stacking():\n",
    "    # define the base models\n",
    "    level0 = list()\n",
    "    level0.append(('lr', LogisticRegression()))     #Analysis showed this model underperformed\n",
    "    level0.append(('knn', KNeighborsClassifier()))   #Analysis showed this model underperformed\n",
    "    level0.append(('rf_1',RandomForestClassifier(class_weight='balanced')))\n",
    "    level0.append(('rf_2',RandomForestClassifier(class_weight='balanced_subsample')))\n",
    "    level0.append(('cart', DecisionTreeClassifier()))\n",
    "    \n",
    "    # define meta learner model\n",
    "    level1 = RandomForestClassifier()\n",
    "    \n",
    "    # define the stacking ensemble\n",
    "    model = StackingClassifier(estimators=level0, final_estimator=level1, cv=5)\n",
    "    return model"
   ]
  },
  {
   "cell_type": "code",
   "execution_count": 12,
   "metadata": {},
   "outputs": [],
   "source": [
    "# get a list of models to evaluate\n",
    "def get_models():\n",
    "    models = dict()\n",
    "    #models['lr'] = LogisticRegression()     #Analysis showed this model underperformed\n",
    "    #models['knn'] = KNeighborsClassifier()   #Analysis showed this model underperformed\n",
    "    models['rf_1'] = RandomForestClassifier(class_weight='balanced')\n",
    "    models['rf_2'] = RandomForestClassifier(class_weight='balanced_subsample')\n",
    "    models['xgb'] = XGBClassifier(num_classes=3)\n",
    "    #models['bayes'] =  GaussianNB()        #Analysis showed this model underperformed\n",
    "    models['stacking'] = get_stacking()\n",
    "    return models"
   ]
  },
  {
   "cell_type": "code",
   "execution_count": 13,
   "metadata": {},
   "outputs": [],
   "source": [
    "# evaluate a give model using cross-validation\n",
    "def evaluate_model(model):\n",
    "    cv = RepeatedStratifiedKFold(n_splits=10, n_repeats=3, random_state=1)\n",
    "    scores = cross_val_score(model, scaled_train_X, train_y, scoring='accuracy', cv=cv, n_jobs=-1, error_score='raise')\n",
    "    return scores"
   ]
  },
  {
   "cell_type": "code",
   "execution_count": 14,
   "metadata": {},
   "outputs": [],
   "source": [
    "models = get_models()"
   ]
  },
  {
   "cell_type": "code",
   "execution_count": 15,
   "metadata": {},
   "outputs": [
    {
     "name": "stdout",
     "output_type": "stream",
     "text": [
      "Model rf_1 had 87% training accuracy with a 0.01 standard deviation.\n",
      "Model rf_2 had 87% training accuracy with a 0.01 standard deviation.\n",
      "Model xgb had 67% training accuracy with a 0.02 standard deviation.\n",
      "Model stacking had 58% training accuracy with a 0.01 standard deviation.\n"
     ]
    }
   ],
   "source": [
    "results, names = list(), list()\n",
    "\n",
    "for name, model in models.items():\n",
    "    scores = evaluate_model(model)\n",
    "    results.append(scores)\n",
    "    names.append(name)\n",
    "    print('Model {} had {:.0%} training accuracy with a {:.0} standard deviation.'.format(name, np.mean(scores), np.std(scores)))"
   ]
  },
  {
   "cell_type": "code",
   "execution_count": 16,
   "metadata": {},
   "outputs": [
    {
     "data": {
      "image/png": "[encoded data removed]",
      "text/plain": [
       "<Figure size 432x288 with 1 Axes>"
      ]
     },
     "metadata": {
      "needs_background": "light"
     },
     "output_type": "display_data"
    }
   ],
   "source": [
    "# plot model performance for comparison\n",
    "pyplot.boxplot(results, labels=names, showmeans=True)\n",
    "pyplot.show()"
   ]
  },
  {
   "cell_type": "code",
   "execution_count": null,
   "metadata": {},
   "outputs": [],
   "source": [
    "# The stacking algorithm ended up not performing nearly as well as the random forest algorithms. "
   ]
  },
  {
   "cell_type": "code",
   "execution_count": 17,
   "metadata": {},
   "outputs": [
    {
     "name": "stdout",
     "output_type": "stream",
     "text": [
      "Model stacking had 87% training accuracy with a 0.01 standard deviation.\n"
     ]
    }
   ],
   "source": [
    "# random forest model creation\n",
    "score = evaluate_model(models['rf_1'])\n",
    "print('Model {} had {:.0%} training accuracy with a {:.0} standard deviation.'.format(name, np.mean(score), np.std(score)))"
   ]
  },
  {
   "cell_type": "code",
   "execution_count": 18,
   "metadata": {},
   "outputs": [
    {
     "name": "stdout",
     "output_type": "stream",
     "text": [
      "=== All AUC Scores ===\n",
      "[0.8798627  0.85354691 0.88558352 0.85354691 0.8604119  0.83848797\n",
      " 0.88087056 0.88545246 0.87056128 0.87056128 0.88443936 0.86613272\n",
      " 0.87643021 0.87643021 0.86498856 0.85681558 0.86597938 0.89232532\n",
      " 0.85223368 0.87514318 0.87757437 0.86155606 0.86842105 0.89359268\n",
      " 0.88329519 0.87056128 0.86941581 0.84421535 0.86139748 0.86941581]\n",
      "\n",
      "\n",
      "=== Mean AUC Score ===\n",
      "Mean AUC Score - Random Forest:  0.8696416261032082\n"
     ]
    }
   ],
   "source": [
    "print(\"=== All AUC Scores ===\")\n",
    "print(score)\n",
    "print('\\n')\n",
    "print(\"=== Mean AUC Score ===\")\n",
    "print(\"Mean AUC Score - Random Forest: \", score.mean())"
   ]
  },
  {
   "cell_type": "code",
   "execution_count": 19,
   "metadata": {},
   "outputs": [],
   "source": [
    "# Didn't do any hyperparameter turning since the AUC is already close to 0.90, indicating a great model already\n",
    "# Now to create a portfolio from the predictions after saving this data."
   ]
  },
  {
   "cell_type": "code",
   "execution_count": 20,
   "metadata": {},
   "outputs": [
    {
     "name": "stderr",
     "output_type": "stream",
     "text": [
      "C:\\Users\\zackarys\\AppData\\Local\\Continuum\\anaconda3\\envs\\devenv\\lib\\site-packages\\sklearn\\linear_model\\_logistic.py:940: ConvergenceWarning: lbfgs failed to converge (status=1):\n",
      "STOP: TOTAL NO. of ITERATIONS REACHED LIMIT.\n",
      "\n",
      "Increase the number of iterations (max_iter) or scale the data as shown in:\n",
      "    https://scikit-learn.org/stable/modules/preprocessing.html\n",
      "Please also refer to the documentation for alternative solver options:\n",
      "    https://scikit-learn.org/stable/modules/linear_model.html#logistic-regression\n",
      "  extra_warning_msg=_LOGISTIC_SOLVER_CONVERGENCE_MSG)\n"
     ]
    }
   ],
   "source": [
    "y_pred = cross_val_predict(model, scaled_test_X, test_y, cv=10)"
   ]
  },
  {
   "cell_type": "code",
   "execution_count": 21,
   "metadata": {},
   "outputs": [
    {
     "name": "stdout",
     "output_type": "stream",
     "text": [
      "The Cross Validated Prediction Accuracy was: 75%\n"
     ]
    }
   ],
   "source": [
    "print('The Cross Validated Prediction Accuracy was: {:.0%}'.format(accuracy_score(test_y, y_pred)))"
   ]
  },
  {
   "cell_type": "code",
   "execution_count": 22,
   "metadata": {},
   "outputs": [],
   "source": [
    "test_X['Prediction'] = y_pred"
   ]
  },
  {
   "cell_type": "code",
   "execution_count": 23,
   "metadata": {},
   "outputs": [],
   "source": [
    "test_X['Symbol'] = label_encoder.inverse_transform(test_X['Symbol'].astype(int))"
   ]
  },
  {
   "cell_type": "code",
   "execution_count": 25,
   "metadata": {},
   "outputs": [],
   "source": [
    "test_X['Signal'] = test_y"
   ]
  },
  {
   "cell_type": "code",
   "execution_count": 26,
   "metadata": {},
   "outputs": [],
   "source": [
    "test_X.to_csv('StockDataWithPredictions.csv')"
   ]
  },
  {
   "cell_type": "code",
   "execution_count": null,
   "metadata": {},
   "outputs": [],
   "source": []
  }
 ],
 "metadata": {
  "kernelspec": {
   "display_name": "Python 3",
   "language": "python",
   "name": "python3"
  },
  "language_info": {
   "codemirror_mode": {
    "name": "ipython",
    "version": 3
   },
   "file_extension": ".py",
   "mimetype": "text/x-python",
   "name": "python",
   "nbconvert_exporter": "python",
   "pygments_lexer": "ipython3",
   "version": "3.6.10"
  }
 },
 "nbformat": 4,
 "nbformat_minor": 4
}
